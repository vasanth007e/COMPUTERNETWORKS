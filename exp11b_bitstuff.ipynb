{
  "nbformat": 4,
  "nbformat_minor": 0,
  "metadata": {
    "colab": {
      "provenance": []
    },
    "kernelspec": {
      "name": "python3",
      "display_name": "Python 3"
    },
    "language_info": {
      "name": "python"
    }
  },
  "cells": [
    {
      "cell_type": "code",
      "execution_count": 1,
      "metadata": {
        "colab": {
          "base_uri": "https://localhost:8080/"
        },
        "id": "XO_6NnxmHIea",
        "outputId": "7c14b762-c75a-45c4-a32a-478d3621ef1d"
      },
      "outputs": [
        {
          "output_type": "stream",
          "name": "stdout",
          "text": [
            "Reading package lists... Done\n",
            "Building dependency tree... Done\n",
            "Reading state information... Done\n",
            "gcc is already the newest version (4:11.2.0-1ubuntu1).\n",
            "gcc set to manually installed.\n",
            "0 upgraded, 0 newly installed, 0 to remove and 29 not upgraded.\n"
          ]
        }
      ],
      "source": [
        "!apt-get install gcc -y"
      ]
    },
    {
      "cell_type": "code",
      "source": [
        "%%writefile bitstuffing.c\n",
        "#include <stdio.h>\n",
        "#include <string.h>\n",
        "\n",
        "void stuff(char *input, char *output) {\n",
        "    int count = 0;\n",
        "    for (int i = 0, j = 0; input[i]; i++) {\n",
        "        output[j++] = input[i];\n",
        "        if (input[i] == '1' && ++count == 5) {\n",
        "            output[j++] = '0';\n",
        "            count = 0;\n",
        "        } else if (input[i] == '0') {\n",
        "            count = 0;\n",
        "        }\n",
        "    }\n",
        "}\n",
        "\n",
        "void destuff(char *input, char *output) {\n",
        "    int count = 0;\n",
        "    for (int i = 0, j = 0; input[i]; i++) {\n",
        "        if (input[i] == '1' && ++count == 5) {\n",
        "            i++; // Skip the stuffed '0'\n",
        "            count = 0;\n",
        "        } else {\n",
        "            output[j++] = input[i];\n",
        "            if (input[i] == '0') count = 0;\n",
        "        }\n",
        "    }\n",
        "}\n",
        "\n",
        "int main() {\n",
        "    char input[] = \"111111001111101111110\";\n",
        "    char stuffed[50], destuffed[50];\n",
        "\n",
        "    stuff(input, stuffed);\n",
        "    printf(\"Original: %s\\nStuffed: %s\\n\", input, stuffed);\n",
        "\n",
        "    destuff(stuffed, destuffed);\n",
        "    printf(\"Destuffed: %s\\n\", destuffed);\n",
        "\n",
        "    return 0;\n",
        "}"
      ],
      "metadata": {
        "colab": {
          "base_uri": "https://localhost:8080/"
        },
        "id": "T4Lk9W7rH3SL",
        "outputId": "6ee322a2-b728-4a8c-ee46-68327b49e7ce"
      },
      "execution_count": 2,
      "outputs": [
        {
          "output_type": "stream",
          "name": "stdout",
          "text": [
            "Writing bitstuffing.c\n"
          ]
        }
      ]
    },
    {
      "cell_type": "code",
      "source": [
        "!gcc bitstuffing.c -o bitstuffing"
      ],
      "metadata": {
        "id": "EL8zo8HyH71Z"
      },
      "execution_count": 3,
      "outputs": []
    },
    {
      "cell_type": "code",
      "source": [
        "!./bitstuffing"
      ],
      "metadata": {
        "colab": {
          "base_uri": "https://localhost:8080/"
        },
        "id": "nW-CL6YBIAeW",
        "outputId": "2bf0d386-3e85-45cf-8ddc-241b3c2efc71"
      },
      "execution_count": 4,
      "outputs": [
        {
          "output_type": "stream",
          "name": "stdout",
          "text": [
            "Original: 111111001111101111110\n",
            "Stuffed: 111110100111110011111010\u0001\n",
            "Destuffed: 111110011110111110\u0001\n"
          ]
        }
      ]
    }
  ]
}